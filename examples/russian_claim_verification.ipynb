{
 "cells": [
  {
   "cell_type": "code",
   "execution_count": 1,
   "metadata": {
    "colab": {
     "base_uri": "https://localhost:8080/"
    },
    "id": "O_ix1zC3bmMO",
    "outputId": "9c1b5c83-f7ae-405c-dce1-9704729c7dee"
   },
   "outputs": [],
   "source": [
    "# !pip install openai==0.28"
   ]
  },
  {
   "cell_type": "code",
   "execution_count": 2,
   "metadata": {
    "colab": {
     "base_uri": "https://localhost:8080/"
    },
    "id": "M_SHilKidwwq",
    "outputId": "195d107a-cd64-47f3-b440-2cc66eb39522"
   },
   "outputs": [],
   "source": [
    "# ##uncomment this to use code in Google Colab\n",
    "# !pip install fastchat\n",
    "# !pip install wget\n",
    "# !pip install evaluate\n",
    "# !pip install sentence_transformers\n",
    "# !pip install bert_score\n",
    "# !pip install datasets"
   ]
  },
  {
   "cell_type": "code",
   "execution_count": 3,
   "metadata": {
    "colab": {
     "base_uri": "https://localhost:8080/"
    },
    "id": "Srt0FyOnbp_G",
    "outputId": "2d68f2fd-36e3-49d9-c5e9-fcb0f9335441"
   },
   "outputs": [],
   "source": [
    "# ##uncomment this to use code in Google Colab\n",
    "# from IPython.display import clear_output\n",
    "# !git clone https://github.com/alfekka/lm-polygraph.git -b new_api\n",
    "# %cd lm-polygraph\n",
    "# %pip install .\n",
    "# %cd src\n",
    "# %pip install transformers rouge-score datasets openai\n",
    "# !curl -fsSL https://deb.nodesource.com/setup_20.x | sudo -E bash -\n",
    "# !apt-get install -y nodejs\n",
    "# %cd lm_polygraph/app\n",
    "# !npm install\n",
    "# %cd ../../\n",
    "# %cd /content/lm-polygraph/src\n",
    "# %load_ext autoreload\n",
    "# %autoreload 2"
   ]
  },
  {
   "cell_type": "code",
   "execution_count": 14,
   "metadata": {
    "colab": {
     "base_uri": "https://localhost:8080/"
    },
    "id": "kxoCEnV9b-Ca",
    "outputId": "cc6ea33c-d271-4994-99bb-4171eab79b97"
   },
   "outputs": [
    {
     "name": "stdout",
     "output_type": "stream",
     "text": [
      "/content/lm-polygraph\n",
      "/content/lm-polygraph\n",
      "/content/lm-polygraph/src\n"
     ]
    }
   ],
   "source": [
    "# ##uncomment this to use code in Google Colab\n",
    "# %cd ..\n",
    "# !pwd\n",
    "# %cd /content/lm-polygraph/src"
   ]
  },
  {
   "cell_type": "code",
   "execution_count": 15,
   "metadata": {
    "colab": {
     "base_uri": "https://localhost:8080/"
    },
    "id": "kIvmRPiQcT-U",
    "outputId": "0e00b523-351b-4e3e-f113-7ee329a28548"
   },
   "outputs": [
    {
     "name": "stderr",
     "output_type": "stream",
     "text": [
      "[nltk_data] Downloading package stopwords to /root/nltk_data...\n",
      "[nltk_data]   Package stopwords is already up-to-date!\n"
     ]
    },
    {
     "data": {
      "text/plain": [
       "True"
      ]
     },
     "execution_count": 15,
     "metadata": {},
     "output_type": "execute_result"
    }
   ],
   "source": [
    "# import nltk\n",
    "# nltk.download('stopwords')"
   ]
  },
  {
   "cell_type": "code",
   "execution_count": 16,
   "metadata": {
    "id": "PbSPWAdFcUwk"
   },
   "outputs": [],
   "source": [
    "from lm_polygraph.generation_metrics.openai_fact_check import OpenAIFactCheck\n",
    "from lm_polygraph.stat_calculators.extract_claims import Claim\n",
    "import json\n",
    "import pandas as pd\n",
    "from tqdm import tqdm\n",
    "russian_checker = OpenAIFactCheck('gpt-4o', language='ru')"
   ]
  },
  {
   "cell_type": "code",
   "execution_count": 17,
   "metadata": {
    "id": "nv1U1-M-cl5e"
   },
   "outputs": [],
   "source": [
    "from datasets import load_dataset\n",
    "full = load_dataset(\"rvanova/person-bio-full\")\n",
    "full_claims = pd.DataFrame(full['test'])"
   ]
  },
  {
   "cell_type": "code",
   "execution_count": 18,
   "metadata": {
    "colab": {
     "base_uri": "https://localhost:8080/"
    },
    "id": "YIpunOs7bYUS",
    "outputId": "199bbd64-4062-4c48-bad7-da7b49450dd6"
   },
   "outputs": [
    {
     "data": {
      "text/plain": [
       "Index(['question', 'bio', 'claim', 'sentence', 'tokens'], dtype='object')"
      ]
     },
     "execution_count": 18,
     "metadata": {},
     "output_type": "execute_result"
    }
   ],
   "source": [
    "full_claims.columns"
   ]
  },
  {
   "cell_type": "code",
   "execution_count": 19,
   "metadata": {
    "colab": {
     "base_uri": "https://localhost:8080/"
    },
    "id": "IQH2pv1MbYUS",
    "outputId": "30492b96-5e61-467c-fda7-30ec817b009e"
   },
   "outputs": [
    {
     "name": "stderr",
     "output_type": "stream",
     "text": [
      "100%|██████████| 298/298 [03:05<00:00,  1.61it/s]\n"
     ]
    }
   ],
   "source": [
    "for i, row in tqdm(full_claims.iterrows(), total=full_claims.shape[0]):\n",
    "    claim = [Claim(claim_text=row['claim'], sentence=row['sentence'], aligned_tokens=row['tokens'])]\n",
    "    check_dict = { \"input_texts\": [row['question']],\n",
    "                  \"claims\": [claim]}\n",
    "    chatgpt_response = russian_checker(check_dict, None, None )\n",
    "    full_claims.at[i,'chatgpt_verdict'] = chatgpt_response[0]\n"
   ]
  },
  {
   "cell_type": "code",
   "execution_count": 21,
   "metadata": {
    "id": "_-nAAb_ubYUT"
   },
   "outputs": [],
   "source": [
    "full_claims.sample(frac=1).to_csv(\"../workdir/russian_fact_checked_claims_shuffled.csv\", index=False)\n",
    "\n",
    "full_claims.to_csv(\"../workdir/russian_fact_checked_claims.csv\", index=False)"
   ]
  },
  {
   "cell_type": "code",
   "execution_count": null,
   "metadata": {
    "id": "DJNdT7nendr4"
   },
   "outputs": [],
   "source": []
  }
 ],
 "metadata": {
  "accelerator": "GPU",
  "colab": {
   "gpuType": "T4",
   "machine_shape": "hm",
   "provenance": []
  },
  "kernelspec": {
   "display_name": "Python [conda env:.mlspace-calibration]",
   "language": "python",
   "name": "conda-env-.mlspace-calibration-py"
  },
  "language_info": {
   "codemirror_mode": {
    "name": "ipython",
    "version": 3
   },
   "file_extension": ".py",
   "mimetype": "text/x-python",
   "name": "python",
   "nbconvert_exporter": "python",
   "pygments_lexer": "ipython3",
   "version": "3.10.14"
  }
 },
 "nbformat": 4,
 "nbformat_minor": 4
}
